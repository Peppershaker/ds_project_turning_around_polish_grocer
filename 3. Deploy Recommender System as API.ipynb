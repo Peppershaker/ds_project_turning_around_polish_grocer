{
 "cells": [
  {
   "cell_type": "markdown",
   "metadata": {},
   "source": [
    "## Deploying Item Based Recommender System as API with Docker & Flask"
   ]
  },
  {
   "cell_type": "code",
   "execution_count": 1,
   "metadata": {},
   "outputs": [],
   "source": [
    "__author__ = \"Victor Xu\"\n",
    "__email__ = \"victor.c.xu@gmail.com\"\n",
    "__website__ = \"victorxu.me\"\n",
    "\n",
    "__powerpoint_presentation__ = \"https://www.dropbox.com/s/ezenffm4bbrutar/grocer.pdf?dl=0\"\n",
    "__write_up__ = \"coming soon\"\n",
    "\n",
    "__copyright__ = \"Copyright 2019, Victor Xu\""
   ]
  },
  {
   "cell_type": "markdown",
   "metadata": {},
   "source": [
    "#### Building the Docker Container\n",
    "\n",
    "First, go to the project root directory, which is where this notebook is saved.\n",
    "\n",
    "Build the container and run it\n",
    "\n",
    "`source build_and_run.sh`\n",
    "\n",
    "You should see a successful build message.\n",
    "\n",
    "`docker ps` make sure that the container is in fact running\n",
    "\n",
    "<img src=\"static_assets/build_docker.PNG\" width=\"950px\">\n",
    "\n",
    "#### Testing the API\n",
    "\n",
    "Let's stick with item 304, the Polish beer, from the last notebook for consistency."
   ]
  },
  {
   "cell_type": "code",
   "execution_count": 7,
   "metadata": {},
   "outputs": [],
   "source": [
    "import requests\n",
    "\n",
    "def make_request_for_recomendation(sku, n):\n",
    "    \"\"\"Constructs the request url and returns the response\"\"\"\n",
    "\n",
    "    url = \"http://localhost/api/v1.0/predict?sku={}&n={}\".format(sku, n)\n",
    "    r = requests.get(url)\n",
    "\n",
    "    return r.content"
   ]
  },
  {
   "cell_type": "markdown",
   "metadata": {},
   "source": [
    "#### Requesting a single recommendated item"
   ]
  },
  {
   "cell_type": "code",
   "execution_count": 9,
   "metadata": {},
   "outputs": [
    {
     "data": {
      "text/plain": [
       "b'[{\"sku\":9540,\"similarity\":0.9836188858,\"category\":\"ice_creams_frozen\",\"name\":\"lody koktajlowe kukulka\"}]'"
      ]
     },
     "execution_count": 9,
     "metadata": {},
     "output_type": "execute_result"
    }
   ],
   "source": [
    "make_request_for_recomendation(304, 1)"
   ]
  },
  {
   "cell_type": "markdown",
   "metadata": {},
   "source": [
    "#### Requesting 10 recommended items"
   ]
  },
  {
   "cell_type": "code",
   "execution_count": 11,
   "metadata": {
    "scrolled": true
   },
   "outputs": [
    {
     "data": {
      "text/plain": [
       "b'[{\"sku\":9540,\"similarity\":0.9836188858,\"category\":\"ice_creams_frozen\",\"name\":\"lody koktajlowe kukulka\"},{\"sku\":18511,\"similarity\":0.9745709985,\"category\":\"bread\",\"name\":\"s bulka sojowa\"},{\"sku\":3287,\"similarity\":0.9658407794,\"category\":\"ice_creams_frozen\",\"name\":\"lody rozek mix loteria\"},{\"sku\":2452,\"similarity\":0.9634342622,\"category\":\"beer\",\"name\":\"piwo eb 0_5 l b\\\\/zwr\"},{\"sku\":16804,\"similarity\":0.9600628723,\"category\":\"fish\",\"name\":\"p pastella jajeczna ze szczypiorkiem\"},{\"sku\":13770,\"similarity\":0.9593938382,\"category\":\"drink_juice\",\"name\":\"oranzada w but.zwrotnej\"},{\"sku\":327,\"similarity\":0.9575351005,\"category\":\"beer\",\"name\":\"piwo zubr 0_5l puszka\"},{\"sku\":4027,\"similarity\":0.9547812417,\"category\":\"sweets\",\"name\":\"wafle familijne 180 g kakao\"},{\"sku\":1165,\"similarity\":0.9536187604,\"category\":\"chemistry\",\"name\":\"reklamowka z uchwytem\"},{\"sku\":4125,\"similarity\":0.9530060989,\"category\":\"drink_juice\",\"name\":\"woda primavera 1_5l n\\\\/gaz\"}]'"
      ]
     },
     "execution_count": 11,
     "metadata": {},
     "output_type": "execute_result"
    }
   ],
   "source": [
    "make_request_for_recomendation(304, 10)"
   ]
  },
  {
   "cell_type": "markdown",
   "metadata": {},
   "source": [
    "#### In a DataFrame format"
   ]
  },
  {
   "cell_type": "code",
   "execution_count": 12,
   "metadata": {},
   "outputs": [
    {
     "data": {
      "text/html": [
       "<div>\n",
       "<style scoped>\n",
       "    .dataframe tbody tr th:only-of-type {\n",
       "        vertical-align: middle;\n",
       "    }\n",
       "\n",
       "    .dataframe tbody tr th {\n",
       "        vertical-align: top;\n",
       "    }\n",
       "\n",
       "    .dataframe thead th {\n",
       "        text-align: right;\n",
       "    }\n",
       "</style>\n",
       "<table border=\"1\" class=\"dataframe\">\n",
       "  <thead>\n",
       "    <tr style=\"text-align: right;\">\n",
       "      <th></th>\n",
       "      <th>sku</th>\n",
       "      <th>similarity</th>\n",
       "      <th>category</th>\n",
       "      <th>name</th>\n",
       "    </tr>\n",
       "  </thead>\n",
       "  <tbody>\n",
       "    <tr>\n",
       "      <th>0</th>\n",
       "      <td>9540</td>\n",
       "      <td>0.983619</td>\n",
       "      <td>ice_creams_frozen</td>\n",
       "      <td>lody koktajlowe kukulka</td>\n",
       "    </tr>\n",
       "    <tr>\n",
       "      <th>1</th>\n",
       "      <td>18511</td>\n",
       "      <td>0.974571</td>\n",
       "      <td>bread</td>\n",
       "      <td>s bulka sojowa</td>\n",
       "    </tr>\n",
       "    <tr>\n",
       "      <th>2</th>\n",
       "      <td>3287</td>\n",
       "      <td>0.965841</td>\n",
       "      <td>ice_creams_frozen</td>\n",
       "      <td>lody rozek mix loteria</td>\n",
       "    </tr>\n",
       "    <tr>\n",
       "      <th>3</th>\n",
       "      <td>2452</td>\n",
       "      <td>0.963434</td>\n",
       "      <td>beer</td>\n",
       "      <td>piwo eb 0_5 l b/zwr</td>\n",
       "    </tr>\n",
       "    <tr>\n",
       "      <th>4</th>\n",
       "      <td>16804</td>\n",
       "      <td>0.960063</td>\n",
       "      <td>fish</td>\n",
       "      <td>p pastella jajeczna ze szczypiorkiem</td>\n",
       "    </tr>\n",
       "    <tr>\n",
       "      <th>5</th>\n",
       "      <td>13770</td>\n",
       "      <td>0.959394</td>\n",
       "      <td>drink_juice</td>\n",
       "      <td>oranzada w but.zwrotnej</td>\n",
       "    </tr>\n",
       "    <tr>\n",
       "      <th>6</th>\n",
       "      <td>327</td>\n",
       "      <td>0.957535</td>\n",
       "      <td>beer</td>\n",
       "      <td>piwo zubr 0_5l puszka</td>\n",
       "    </tr>\n",
       "    <tr>\n",
       "      <th>7</th>\n",
       "      <td>4027</td>\n",
       "      <td>0.954781</td>\n",
       "      <td>sweets</td>\n",
       "      <td>wafle familijne 180 g kakao</td>\n",
       "    </tr>\n",
       "    <tr>\n",
       "      <th>8</th>\n",
       "      <td>1165</td>\n",
       "      <td>0.953619</td>\n",
       "      <td>chemistry</td>\n",
       "      <td>reklamowka z uchwytem</td>\n",
       "    </tr>\n",
       "    <tr>\n",
       "      <th>9</th>\n",
       "      <td>4125</td>\n",
       "      <td>0.953006</td>\n",
       "      <td>drink_juice</td>\n",
       "      <td>woda primavera 1_5l n/gaz</td>\n",
       "    </tr>\n",
       "  </tbody>\n",
       "</table>\n",
       "</div>"
      ],
      "text/plain": [
       "     sku  similarity           category                                  name\n",
       "0   9540    0.983619  ice_creams_frozen               lody koktajlowe kukulka\n",
       "1  18511    0.974571              bread                        s bulka sojowa\n",
       "2   3287    0.965841  ice_creams_frozen                lody rozek mix loteria\n",
       "3   2452    0.963434               beer                   piwo eb 0_5 l b/zwr\n",
       "4  16804    0.960063               fish  p pastella jajeczna ze szczypiorkiem\n",
       "5  13770    0.959394        drink_juice               oranzada w but.zwrotnej\n",
       "6    327    0.957535               beer                 piwo zubr 0_5l puszka\n",
       "7   4027    0.954781             sweets           wafle familijne 180 g kakao\n",
       "8   1165    0.953619          chemistry                 reklamowka z uchwytem\n",
       "9   4125    0.953006        drink_juice             woda primavera 1_5l n/gaz"
      ]
     },
     "execution_count": 12,
     "metadata": {},
     "output_type": "execute_result"
    }
   ],
   "source": [
    "import pandas as pd\n",
    "\n",
    "pd.read_json(make_request_for_recomendation(304, 10), orient='records')"
   ]
  },
  {
   "cell_type": "markdown",
   "metadata": {},
   "source": [
    "### Thats it! Everything works! Thanks for checking out this project!\n",
    "\n",
    "<img src=\"static_assets/tenor.gif\" width=\"300px\">"
   ]
  }
 ],
 "metadata": {
  "kernelspec": {
   "display_name": "python3.7",
   "language": "python",
   "name": "python3.7"
  },
  "language_info": {
   "codemirror_mode": {
    "name": "ipython",
    "version": 3
   },
   "file_extension": ".py",
   "mimetype": "text/x-python",
   "name": "python",
   "nbconvert_exporter": "python",
   "pygments_lexer": "ipython3",
   "version": "3.7.3"
  }
 },
 "nbformat": 4,
 "nbformat_minor": 2
}
